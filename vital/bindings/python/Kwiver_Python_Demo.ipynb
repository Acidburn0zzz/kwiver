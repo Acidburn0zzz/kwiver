{
 "cells": [
  {
   "cell_type": "markdown",
   "metadata": {
    "slideshow": {
     "slide_type": "slide"
    }
   },
   "source": [
    "# Introduction\n",
    "Vital now supports an initial Python interface via a C interface library.\n",
    "\n",
    "This iPython notebook intends to introduce this interface and provide a simple demonstration of its use and capability in its current state."
   ]
  },
  {
   "cell_type": "markdown",
   "metadata": {
    "slideshow": {
     "slide_type": "notes"
    }
   },
   "source": [
    "As this is currently still in a proof-of-concept phase, only a subset of Vital data structures and algorithms are available via the Python interface, and yet also limited in functionality within Python (e.g. only simple data accessors and manipuators are available."
   ]
  },
  {
   "cell_type": "markdown",
   "metadata": {
    "slideshow": {
     "slide_type": "slide"
    }
   },
   "source": [
    "## Setting up the environment\n",
    "In order to access and use the Vital python interface:\n",
    "* When configuring the Kwiver build with CMake, enable `KWIVER_ENABLE_C_BINDINGS`, `KWIVER_ENABLE_PYTHON`, and `KWIVER_BUILD_SHARED`.\n",
    "* Source the setup_KWIVER.sh file in the build or installation directory, whichever is relevant.  The module find_vital_library.py uses LD_LIBRARY_PATH to search for the vital_c library."
   ]
  },
  {
   "cell_type": "markdown",
   "metadata": {
    "slideshow": {
     "slide_type": "subslide"
    }
   },
   "source": [
    "Before interacting with the Vital python bindings, the Vital common setup script should be sourced. When working with the bindings while in the source tree, a setup script may be sourced in\n",
    "\n",
    "    <SOURCE>/vital/bindings/python/setup_vital_python.sh\n",
    "\n",
    "This simply adds that containing directory to the PYTHON_PATH.\n",
    "    \n",
    "A Windows equivalent batch script will be provided in the future."
   ]
  },
  {
   "cell_type": "markdown",
   "metadata": {
    "slideshow": {
     "slide_type": "slide"
    }
   },
   "source": [
    "### Unit Tests\n",
    "Tests for the python interface are available in \n",
    "\n",
    "    <SOURCE>/vital/bindings/python/vital/tests/\n",
    "    \n",
    "and require the `nose` python package. To run:\n",
    "\n",
    "    $ nosetests ./vital/bindings/python/vital/tests"
   ]
  },
  {
   "cell_type": "markdown",
   "metadata": {
    "slideshow": {
     "slide_type": "slide"
    }
   },
   "source": [
    "## Using the Vital Python Interface\n",
    "The Vital Python interface is very similar to the C++ interface, with a slight difference in how algorithms are treated. Altogether, the Vital Python module primarily consists of a collection of data structures and a collection of algorithms types."
   ]
  },
  {
   "cell_type": "markdown",
   "metadata": {
    "slideshow": {
     "slide_type": "subslide"
    }
   },
   "source": [
    "### Importing Vital\n",
    "Once the environment is setup Vital is imported under the name `vital`"
   ]
  },
  {
   "cell_type": "code",
   "execution_count": 1,
   "metadata": {
    "collapsed": false,
    "slideshow": {
     "slide_type": "-"
    }
   },
   "outputs": [
    {
     "name": "stdout",
     "output_type": "stream",
     "text": [
      "<module 'vital' from 'vital/__init__.pyc'>\n"
     ]
    }
   ],
   "source": [
    "# Importing Vital Python module\n",
    "import vital\n",
    "print vital"
   ]
  },
  {
   "cell_type": "markdown",
   "metadata": {
    "slideshow": {
     "slide_type": "slide"
    }
   },
   "source": [
    "### Data structures\n",
    "The data structures provided in the Python interface are intended to provide the same functions as their C++ counter parts but maintain pythonic design and interaction. Most data structures are importable, for convenience, in the root vital module."
   ]
  },
  {
   "cell_type": "markdown",
   "metadata": {
    "slideshow": {
     "slide_type": "notes"
    }
   },
   "source": [
    "**NOTE:** Currently, the only data structure that is 100% implemented (compared to the source data structure in C++) is the config_block structue (the VitalConfigBlock class in Python). Other data structures in the Python interface are only partially implemented in support of the currently implemented algorithms."
   ]
  },
  {
   "cell_type": "markdown",
   "metadata": {
    "slideshow": {
     "slide_type": "subslide"
    }
   },
   "source": [
    "Currently implemented data structures (in whole or part):\n",
    "* algorithm_plugin_manager\n",
    "* camera\n",
    "* camera_map\n",
    "* config_block (complete interface)\n",
    "* image\n",
    "* image_container\n",
    "* track\n",
    "* track_set"
   ]
  },
  {
   "cell_type": "markdown",
   "metadata": {
    "slideshow": {
     "slide_type": "subslide"
    }
   },
   "source": [
    "#### Example: Using the ConfigBlock"
   ]
  },
  {
   "cell_type": "code",
   "execution_count": 7,
   "metadata": {
    "collapsed": false,
    "slideshow": {
     "slide_type": "-"
    }
   },
   "outputs": [
    {
     "name": "stdout",
     "output_type": "stream",
     "text": [
      "empty ConfigBlock keys []\n",
      "updated ConfigBlock keys ['foobar']\n",
      "value of 'foobar': true\n",
      "foobar is on (True)\n"
     ]
    }
   ],
   "source": [
    "# The config block structure\n",
    "from vital import config_block\n",
    "\n",
    "# Creating an empyty config block:\n",
    "cb = ConfigBlock(\"SomeNameNotRequired\") \n",
    "print \"empty ConfigBlock keys\",  cb.available_keys()  # an empty list\n",
    "\n",
    "cb.set_value('foobar', 'true')\n",
    "print \"updated ConfigBlock keys\", cb.available_keys()     # Now has one element, 'foobar'\n",
    "print \"value of 'foobar':\", cb.get_value('foobar')  # Get string value\n",
    "# This happens to be a valid boolean string, so we can get it as a boolean value, too\n",
    "if cb.get_value_bool('foobar'):\n",
    "    print \"foobar is on (%s)\" % cb.get_value_bool('foobar')\n",
    "else:\n",
    "    print \"foobar is off (%s)\" % cb.get_value_bool('foobar')"
   ]
  },
  {
   "cell_type": "markdown",
   "metadata": {
    "slideshow": {
     "slide_type": "slide"
    }
   },
   "source": [
    "### Error Handling\n",
    "The C interface implements an error handle structure, which many functions take in and set, in case an exception is thrown in the C++ code. When an exception is detected, a non-zero error code is set. The Python interface uses these handles to propagate any errors that occur in the C/C++ code (aside from unavoidable things like segfaults) as raised exceptions in Python.\n",
    "\n",
    "While there is a catch-all return code and Python exception class for generic errors, specific Python exception classes may be associated to specific return codes on a per-function basis for more fine-grained exception handling."
   ]
  },
  {
   "cell_type": "markdown",
   "metadata": {
    "slideshow": {
     "slide_type": "subslide"
    }
   },
   "source": [
    "#### Example: C++ exceptions translated to Python\n",
    "Config blocks may be read from file. If constructed from a file that doesn't exist, the C++ interface would throw an exception. This is also the case in the Python interface due to automatic error propagation, which happens to be a specific exception class due to the Python implementation knowing that the C interface will return different error codes for specific errors."
   ]
  },
  {
   "cell_type": "code",
   "execution_count": 3,
   "metadata": {
    "collapsed": false,
    "slideshow": {
     "slide_type": "-"
    }
   },
   "outputs": [
    {
     "name": "stdout",
     "output_type": "stream",
     "text": [
      "Exception caught: Could not find file '/This/is/probably/not/a/file/on/your/disk.lalalalala': File does not exist.\n"
     ]
    }
   ],
   "source": [
    "from vital import ConfigBlock\n",
    "from vital.exceptions.config_block_io import VitalConfigBlockIoFileNotFoundException\n",
    "try:\n",
    "    cb = ConfigBlock.from_file(\"/This/is/probably/not/a/file/on/your/disk.lalalalala\")\n",
    "except VitalConfigBlockIoFileNotFoundException as err:\n",
    "    print \"Exception caught:\", err"
   ]
  },
  {
   "cell_type": "markdown",
   "metadata": {
    "slideshow": {
     "slide_type": "subslide"
    }
   },
   "source": [
    "Other functions may only throw the generic base VITAL Python exception due to a current lack of implementation on the Python side, or the C interface does not yet return fine-grained error codes."
   ]
  },
  {
   "cell_type": "code",
   "execution_count": null,
   "metadata": {
    "collapsed": false,
    "slideshow": {
     "slide_type": "-"
    }
   },
   "outputs": [],
   "source": [
    "from vital.types import TrackSet\n",
    "from vital.exceptions.base import VitalBaseException\n",
    "# An empty track set\n",
    "ts = TrackSet()\n",
    "try:\n",
    "    ts.write_tracks_file(\"not_enough_tracks.txt\")\n",
    "except VitalBaseException as err:\n",
    "    print \"Exception caught:\", err"
   ]
  },
  {
   "cell_type": "markdown",
   "metadata": {
    "slideshow": {
     "slide_type": "slide"
    }
   },
   "source": [
    "### Plugin Management\n",
    "Just as in C++, we need to load the dynamic plugins before we can instantiate abstract algorithms with concrete instances. In Python this is done via the `vital.apm` module. In order for plugins to be picked up, the environment variable ``KWIVER_PLUGIN_PATH`` should be set to a colon separated sequence of directories to look in.\n",
    "\n",
    "In the below example, we set the path to point to a build of MAP-Tk's built plugin libraries."
   ]
  },
  {
   "cell_type": "code",
   "execution_count": 1,
   "metadata": {
    "collapsed": false,
    "slideshow": {
     "slide_type": "subslide"
    }
   },
   "outputs": [
    {
     "ename": "AttributeError",
     "evalue": "/home/matt/libraries/kwiver-build/lib/libvital_c.so.1.0.0: undefined symbol: vital_apm_add_search_path",
     "output_type": "error",
     "traceback": [
      "\u001b[0;31m---------------------------------------------------------------------------\u001b[0m",
      "\u001b[0;31mAttributeError\u001b[0m                            Traceback (most recent call last)",
      "\u001b[0;32m<ipython-input-1-83f5da480112>\u001b[0m in \u001b[0;36m<module>\u001b[0;34m()\u001b[0m\n\u001b[1;32m      4\u001b[0m \u001b[0;31m# os.environ['KWIVER_PLUGIN_PATH'] = '/home/purg/dev/maptk/build-dev_ocv_3.x/lib/maptk'\u001b[0m\u001b[0;34m\u001b[0m\u001b[0;34m\u001b[0m\u001b[0m\n\u001b[1;32m      5\u001b[0m \u001b[0;31m# OR\u001b[0m\u001b[0;34m\u001b[0m\u001b[0;34m\u001b[0m\u001b[0m\n\u001b[0;32m----> 6\u001b[0;31m \u001b[0mapm\u001b[0m\u001b[0;34m.\u001b[0m\u001b[0madd_search_path\u001b[0m\u001b[0;34m(\u001b[0m \u001b[0;34m'/home/purg/dev/maptk/build-dev_ocv_3.x/lib/maptk'\u001b[0m \u001b[0;34m)\u001b[0m\u001b[0;34m\u001b[0m\u001b[0m\n\u001b[0m\u001b[1;32m      7\u001b[0m \u001b[0;34m\u001b[0m\u001b[0m\n\u001b[1;32m      8\u001b[0m \u001b[0;31m# Nothing registered initially:\u001b[0m\u001b[0;34m\u001b[0m\u001b[0;34m\u001b[0m\u001b[0m\n",
      "\u001b[0;32m/home/matt/libraries/KWIVER/vital/bindings/python/vital/apm.pyc\u001b[0m in \u001b[0;36madd_search_path\u001b[0;34m(dirpath)\u001b[0m\n\u001b[1;32m     95\u001b[0m \u001b[0;34m\u001b[0m\u001b[0m\n\u001b[1;32m     96\u001b[0m     \"\"\"\n\u001b[0;32m---> 97\u001b[0;31m     \u001b[0mapm_add_sp\u001b[0m \u001b[0;34m=\u001b[0m \u001b[0mVitalObject\u001b[0m\u001b[0;34m.\u001b[0m\u001b[0mVITAL_LIB\u001b[0m\u001b[0;34m.\u001b[0m\u001b[0mvital_apm_add_search_path\u001b[0m\u001b[0;34m\u001b[0m\u001b[0m\n\u001b[0m\u001b[1;32m     98\u001b[0m     \u001b[0mapm_add_sp\u001b[0m\u001b[0;34m.\u001b[0m\u001b[0margtypes\u001b[0m \u001b[0;34m=\u001b[0m \u001b[0;34m[\u001b[0m\u001b[0mctypes\u001b[0m\u001b[0;34m.\u001b[0m\u001b[0mc_char_p\u001b[0m\u001b[0;34m]\u001b[0m\u001b[0;34m\u001b[0m\u001b[0m\n\u001b[1;32m     99\u001b[0m     \u001b[0mapm_add_sp\u001b[0m\u001b[0;34m(\u001b[0m\u001b[0mdirpath\u001b[0m\u001b[0;34m)\u001b[0m\u001b[0;34m\u001b[0m\u001b[0m\n",
      "\u001b[0;32m/home/matt/anaconda2/lib/python2.7/ctypes/__init__.pyc\u001b[0m in \u001b[0;36m__getattr__\u001b[0;34m(self, name)\u001b[0m\n\u001b[1;32m    373\u001b[0m         \u001b[0;32mif\u001b[0m \u001b[0mname\u001b[0m\u001b[0;34m.\u001b[0m\u001b[0mstartswith\u001b[0m\u001b[0;34m(\u001b[0m\u001b[0;34m'__'\u001b[0m\u001b[0;34m)\u001b[0m \u001b[0;32mand\u001b[0m \u001b[0mname\u001b[0m\u001b[0;34m.\u001b[0m\u001b[0mendswith\u001b[0m\u001b[0;34m(\u001b[0m\u001b[0;34m'__'\u001b[0m\u001b[0;34m)\u001b[0m\u001b[0;34m:\u001b[0m\u001b[0;34m\u001b[0m\u001b[0m\n\u001b[1;32m    374\u001b[0m             \u001b[0;32mraise\u001b[0m \u001b[0mAttributeError\u001b[0m\u001b[0;34m(\u001b[0m\u001b[0mname\u001b[0m\u001b[0;34m)\u001b[0m\u001b[0;34m\u001b[0m\u001b[0m\n\u001b[0;32m--> 375\u001b[0;31m         \u001b[0mfunc\u001b[0m \u001b[0;34m=\u001b[0m \u001b[0mself\u001b[0m\u001b[0;34m.\u001b[0m\u001b[0m__getitem__\u001b[0m\u001b[0;34m(\u001b[0m\u001b[0mname\u001b[0m\u001b[0;34m)\u001b[0m\u001b[0;34m\u001b[0m\u001b[0m\n\u001b[0m\u001b[1;32m    376\u001b[0m         \u001b[0msetattr\u001b[0m\u001b[0;34m(\u001b[0m\u001b[0mself\u001b[0m\u001b[0;34m,\u001b[0m \u001b[0mname\u001b[0m\u001b[0;34m,\u001b[0m \u001b[0mfunc\u001b[0m\u001b[0;34m)\u001b[0m\u001b[0;34m\u001b[0m\u001b[0m\n\u001b[1;32m    377\u001b[0m         \u001b[0;32mreturn\u001b[0m \u001b[0mfunc\u001b[0m\u001b[0;34m\u001b[0m\u001b[0m\n",
      "\u001b[0;32m/home/matt/anaconda2/lib/python2.7/ctypes/__init__.pyc\u001b[0m in \u001b[0;36m__getitem__\u001b[0;34m(self, name_or_ordinal)\u001b[0m\n\u001b[1;32m    378\u001b[0m \u001b[0;34m\u001b[0m\u001b[0m\n\u001b[1;32m    379\u001b[0m     \u001b[0;32mdef\u001b[0m \u001b[0m__getitem__\u001b[0m\u001b[0;34m(\u001b[0m\u001b[0mself\u001b[0m\u001b[0;34m,\u001b[0m \u001b[0mname_or_ordinal\u001b[0m\u001b[0;34m)\u001b[0m\u001b[0;34m:\u001b[0m\u001b[0;34m\u001b[0m\u001b[0m\n\u001b[0;32m--> 380\u001b[0;31m         \u001b[0mfunc\u001b[0m \u001b[0;34m=\u001b[0m \u001b[0mself\u001b[0m\u001b[0;34m.\u001b[0m\u001b[0m_FuncPtr\u001b[0m\u001b[0;34m(\u001b[0m\u001b[0;34m(\u001b[0m\u001b[0mname_or_ordinal\u001b[0m\u001b[0;34m,\u001b[0m \u001b[0mself\u001b[0m\u001b[0;34m)\u001b[0m\u001b[0;34m)\u001b[0m\u001b[0;34m\u001b[0m\u001b[0m\n\u001b[0m\u001b[1;32m    381\u001b[0m         \u001b[0;32mif\u001b[0m \u001b[0;32mnot\u001b[0m \u001b[0misinstance\u001b[0m\u001b[0;34m(\u001b[0m\u001b[0mname_or_ordinal\u001b[0m\u001b[0;34m,\u001b[0m \u001b[0;34m(\u001b[0m\u001b[0mint\u001b[0m\u001b[0;34m,\u001b[0m \u001b[0mlong\u001b[0m\u001b[0;34m)\u001b[0m\u001b[0;34m)\u001b[0m\u001b[0;34m:\u001b[0m\u001b[0;34m\u001b[0m\u001b[0m\n\u001b[1;32m    382\u001b[0m             \u001b[0mfunc\u001b[0m\u001b[0;34m.\u001b[0m\u001b[0m__name__\u001b[0m \u001b[0;34m=\u001b[0m \u001b[0mname_or_ordinal\u001b[0m\u001b[0;34m\u001b[0m\u001b[0m\n",
      "\u001b[0;31mAttributeError\u001b[0m: /home/matt/libraries/kwiver-build/lib/libvital_c.so.1.0.0: undefined symbol: vital_apm_add_search_path"
     ]
    }
   ],
   "source": [
    "import os\n",
    "from vital import apm\n",
    "\n",
    "# os.environ['KWIVER_PLUGIN_PATH'] = '/home/purg/dev/maptk/build-dev_ocv_3.x/lib/maptk'\n",
    "# OR\n",
    "apm.add_search_path( '/home/purg/dev/maptk/build-dev_ocv_3.x/lib/maptk' )\n",
    "\n",
    "# Nothing registered initially:\n",
    "print \"Initially registered modlues:\", apm.registered_module_names()\n",
    "\n",
    "# Register an invalid specific module:\n",
    "apm.register_plugins(\"vital_core\")\n",
    "print \"Single module registration:\", apm.registered_module_names()\n",
    "\n",
    "# Register a valid specific module:\n",
    "apm.register_plugins(\"maptk_core_plugin\")\n",
    "print \"Single module registration:\", apm.registered_module_names()\n",
    "\n",
    "# Register all available modules (recommended, thread-safe):\n",
    "print \"Reg all once:\", apm.register_plugins_once()\n",
    "print \"All available modules:\", apm.registered_module_names()"
   ]
  },
  {
   "cell_type": "markdown",
   "metadata": {
    "slideshow": {
     "slide_type": "notes"
    }
   },
   "source": [
    "**NOTE:** It is possible to compile the VITAL system statically, but the C interface libraray dynamically. In this case, dynamic plugins are not supported. It is still required to call `VitalAlgorithmPluginManager.register_plugins` to register available algorithm implementations, however the system will only register those implementations that have been baked into the libraries at compile time. Be aware that in this case no modules will be reported as registered via the `\n",
    "VitalAlgorithmPluginManager.registered_module_names()` method even when algorithm implementations are actually registered."
   ]
  },
  {
   "cell_type": "markdown",
   "metadata": {
    "slideshow": {
     "slide_type": "slide"
    }
   },
   "source": [
    "### Algorithms\n",
    "In the C++ interface, abstract algorithms are defined, but need to be instantiated with concrete derived algorithms provided by the plugins. Static member functions on abstract base class for each algorithm can list the loaded algorithm implementations by name and create an instance of any implementaiton by string name.\n",
    "\n",
    "In the Python interface, each algorithm class represents one of the C++ declared algorithm definition types. They act like a shared pointer would in the C++ interface."
   ]
  },
  {
   "cell_type": "markdown",
   "metadata": {
    "slideshow": {
     "slide_type": "slide"
    }
   },
   "source": [
    "#### Undefined Algorithm Instances\n",
    "All algorithm instances must be named (a configuration requirement) and can be initially created with an undefined implementation type, or with a specific implementation. Valid implementation names (types) are determined by what plugins are loaded at the time of instance construction.\n",
    "\n",
    "When undefined, a call to the `impl_name()` instance method returns None, and calls to implementation methods raise an exception stating that we cannot operate on a null pointer."
   ]
  },
  {
   "cell_type": "code",
   "execution_count": 3,
   "metadata": {
    "collapsed": false,
    "slideshow": {
     "slide_type": "subslide"
    }
   },
   "outputs": [
    {
     "name": "stdout",
     "output_type": "stream",
     "text": [
      "iio implementation name: None\n",
      "Caught exception in C interface: SharedPointerCache::image_io::0: Cannot get NULL pointer\n"
     ]
    }
   ],
   "source": [
    "from vital.algo import ImageIo\n",
    "from vital.exceptions.base import VitalBaseException\n",
    "iio = ImageIo('algo_name')\n",
    "print \"iio implementation name:\", iio.impl_name()\n",
    "try:\n",
    "    iio.load('foo.jpg')\n",
    "except VitalBaseException as err:\n",
    "    print err"
   ]
  },
  {
   "cell_type": "markdown",
   "metadata": {
    "slideshow": {
     "slide_type": "slide"
    }
   },
   "source": [
    "#### Instantiating Algorithm Implementations\n",
    "When using algorithm instances interactively, available implementations can be viewed via the `registered_names()` class method."
   ]
  },
  {
   "cell_type": "code",
   "execution_count": 4,
   "metadata": {
    "collapsed": false,
    "slideshow": {
     "slide_type": "-"
    }
   },
   "outputs": [
    {
     "data": {
      "text/plain": [
       "[]"
      ]
     },
     "execution_count": 4,
     "metadata": {},
     "output_type": "execute_result"
    }
   ],
   "source": [
    "ImageIo.registered_names()"
   ]
  },
  {
   "cell_type": "markdown",
   "metadata": {
    "slideshow": {
     "slide_type": "subslide"
    }
   },
   "source": [
    "If a specific implementation is known, it may be initialized via the `\n",
    "create(...)` class method, or by VitalConfigBlock configuration."
   ]
  },
  {
   "cell_type": "code",
   "execution_count": 5,
   "metadata": {
    "collapsed": false,
    "slideshow": {
     "slide_type": "-"
    }
   },
   "outputs": [
    {
     "ename": "VitalNullPointerException",
     "evalue": "Failed to construct algorithm instance",
     "output_type": "error",
     "traceback": [
      "\u001b[0;31m---------------------------------------------------------------------------\u001b[0m",
      "\u001b[0;31mVitalNullPointerException\u001b[0m                 Traceback (most recent call last)",
      "\u001b[0;32m<ipython-input-5-85723ea83292>\u001b[0m in \u001b[0;36m<module>\u001b[0;34m()\u001b[0m\n\u001b[1;32m      1\u001b[0m \u001b[0;31m# Directly creating a new algorithm via implementation name\u001b[0m\u001b[0;34m\u001b[0m\u001b[0;34m\u001b[0m\u001b[0m\n\u001b[0;32m----> 2\u001b[0;31m \u001b[0miio_ocv\u001b[0m \u001b[0;34m=\u001b[0m \u001b[0mImageIo\u001b[0m\u001b[0;34m.\u001b[0m\u001b[0mcreate\u001b[0m\u001b[0;34m(\u001b[0m\u001b[0;34m\"iio_ocv\"\u001b[0m\u001b[0;34m,\u001b[0m \u001b[0;34m\"ocv\"\u001b[0m\u001b[0;34m)\u001b[0m\u001b[0;34m\u001b[0m\u001b[0m\n\u001b[0m\u001b[1;32m      3\u001b[0m \u001b[0;32mprint\u001b[0m \u001b[0;34m\"Created Implementation type:\"\u001b[0m\u001b[0;34m,\u001b[0m \u001b[0miio_ocv\u001b[0m\u001b[0;34m.\u001b[0m\u001b[0mimpl_name\u001b[0m\u001b[0;34m(\u001b[0m\u001b[0;34m)\u001b[0m\u001b[0;34m\u001b[0m\u001b[0m\n",
      "\u001b[0;32m/home/matt/libraries/KWIVER/vital/bindings/python/vital/algo/algorithm.py\u001b[0m in \u001b[0;36mcreate\u001b[0;34m(cls, algo_name, impl_name)\u001b[0m\n\u001b[1;32m    126\u001b[0m         \u001b[0;32mif\u001b[0m \u001b[0;32mnot\u001b[0m \u001b[0mbool\u001b[0m\u001b[0;34m(\u001b[0m\u001b[0minst_ptr\u001b[0m\u001b[0;34m)\u001b[0m\u001b[0;34m:\u001b[0m\u001b[0;34m\u001b[0m\u001b[0m\n\u001b[1;32m    127\u001b[0m             raise VitalNullPointerException(\n\u001b[0;32m--> 128\u001b[0;31m                 \u001b[0;34m\"Failed to construct algorithm instance\"\u001b[0m\u001b[0;34m\u001b[0m\u001b[0m\n\u001b[0m\u001b[1;32m    129\u001b[0m             )\n\u001b[1;32m    130\u001b[0m \u001b[0;34m\u001b[0m\u001b[0m\n",
      "\u001b[0;31mVitalNullPointerException\u001b[0m: Failed to construct algorithm instance"
     ]
    }
   ],
   "source": [
    "# Directly creating a new algorithm via implementation name\n",
    "iio_ocv = ImageIo.create(\"iio_ocv\", \"ocv\")\n",
    "print \"Created Implementation type:\", iio_ocv.impl_name()"
   ]
  },
  {
   "cell_type": "markdown",
   "metadata": {
    "slideshow": {
     "slide_type": "slide"
    }
   },
   "source": [
    "#### Configuring an Algorithm via ConfigBlock"
   ]
  },
  {
   "cell_type": "code",
   "execution_count": null,
   "metadata": {
    "collapsed": false,
    "slideshow": {
     "slide_type": "-"
    }
   },
   "outputs": [],
   "source": [
    "iio = ImageIo('iio') # and unconfigured image_io algorithm\n",
    "cb = iio.get_config() # get the configuration\n",
    "# iio.impl_name() == None\n",
    "print cb.as_string()  # To see the current configuration"
   ]
  },
  {
   "cell_type": "code",
   "execution_count": null,
   "metadata": {
    "collapsed": false,
    "slideshow": {
     "slide_type": "-"
    }
   },
   "outputs": [],
   "source": [
    "cb.set_value('iio:type', 'ocv')\n",
    "iio.set_config(cb)\n",
    "print \"Using Image IO implementation:\", iio.impl_name()\n",
    "print iio.get_config().as_string()"
   ]
  },
  {
   "cell_type": "markdown",
   "metadata": {
    "slideshow": {
     "slide_type": "slide"
    }
   },
   "source": [
    "#### A More Interesting Configuration Example"
   ]
  },
  {
   "cell_type": "code",
   "execution_count": null,
   "metadata": {
    "collapsed": false
   },
   "outputs": [],
   "source": [
    "from vital.algo import TrackFeatures\n",
    "tracker = TrackFeatures.create(\"tracker\", \"core\")\n",
    "print tracker.get_config().as_string()"
   ]
  },
  {
   "cell_type": "code",
   "execution_count": null,
   "metadata": {
    "collapsed": false,
    "slideshow": {
     "slide_type": "subslide"
    }
   },
   "outputs": [],
   "source": [
    "cb = tracker.get_config()\n",
    "cb.set_value(\"tracker:core:descriptor_extractor:type\", \"ocv_SURF\")\n",
    "tracker.set_config(cb)\n",
    "print tracker.get_config().as_string()"
   ]
  },
  {
   "cell_type": "code",
   "execution_count": null,
   "metadata": {
    "collapsed": false,
    "slideshow": {
     "slide_type": "subslide"
    }
   },
   "outputs": [],
   "source": [
    "cb = tracker.get_config()\n",
    "surf_cb = cb.subblock_view(\"tracker:core:descriptor_extractor:ocv_SURF\")\n",
    "print \"Before:\"\n",
    "print surf_cb.as_string()\n",
    "print \"----------------\"\n",
    "surf_cb.set_value(\"upright\", True)\n",
    "surf_cb.set_value(\"hessian_threshold\", 750)\n",
    "print \"After:\"\n",
    "print surf_cb.as_string()\n",
    "print \"----------------\"\n",
    "tracker.set_config(cb)\n",
    "print tracker.get_config().as_string()"
   ]
  },
  {
   "cell_type": "markdown",
   "metadata": {
    "slideshow": {
     "slide_type": "slide"
    }
   },
   "source": [
    "## Future Work\n",
    "Going forward, the following should be achieved:\n",
    "* Finish interfacing remaining Vital data structures and structure APIs\n",
    "* Allow further access to underlying data, including using Numpy to represent data arrays and matricies.\n",
    "* Allow algorithm implementations in Python that are then generally usable within the Vital system via a Python algorithm plugin."
   ]
  }
 ],
 "metadata": {
  "celltoolbar": "Slideshow",
  "kernelspec": {
   "display_name": "Python 2",
   "language": "python",
   "name": "python2"
  },
  "language_info": {
   "codemirror_mode": {
    "name": "ipython",
    "version": 2
   },
   "file_extension": ".py",
   "mimetype": "text/x-python",
   "name": "python",
   "nbconvert_exporter": "python",
   "pygments_lexer": "ipython2",
   "version": "2.7.13"
  }
 },
 "nbformat": 4,
 "nbformat_minor": 0
}
