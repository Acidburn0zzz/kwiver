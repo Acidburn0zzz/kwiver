{
 "cells": [
  {
   "cell_type": "markdown",
   "metadata": {
    "slideshow": {
     "slide_type": "slide"
    }
   },
   "source": [
    "# Introduction\n",
    "MAP-Tk now supports an initial Python interface via a C interface library. \n",
    "\n",
    "This iPython notebook intends to introduce this interface and provide a simple demonstration of its use and capability in its current state."
   ]
  },
  {
   "cell_type": "markdown",
   "metadata": {
    "slideshow": {
     "slide_type": "notes"
    }
   },
   "source": [
    "As this is currently still in a proof-of-concept phase, only a subset of MAP-Tk data structures and algorithms are available via the Python interface, and yet also limited in functionality within Python (e.g. only simple data accessors and manipuators are available."
   ]
  },
  {
   "cell_type": "markdown",
   "metadata": {
    "slideshow": {
     "slide_type": "slide"
    }
   },
   "source": [
    "## Setting up the environment\n",
    "In order to access and use the MAP-Tk python interface:\n",
    "* When configuring MAP-Tk CMake, additionally enable `MAPTK_ENABLE_C_LIB` and `MAPTK_ENABLE_PYTHON`\n",
    "    * `MAPTK_PYTHON_SEARCH_BUILD_DIR` should also be enabled when working within the build tree.\n",
    "* C interface library must have been built shared"
   ]
  },
  {
   "cell_type": "markdown",
   "metadata": {
    "slideshow": {
     "slide_type": "notes"
    }
   },
   "source": [
    "**NOTE:** Due to at least one core python source file needing CMake configuration, the Python module is not usable intil at least `make configure` is run after CMake configuration and generation."
   ]
  },
  {
   "cell_type": "markdown",
   "metadata": {
    "slideshow": {
     "slide_type": "subslide"
    }
   },
   "source": [
    "The Python environment should also be made aware of where the MAPTK python module is located if it is not installed in a standard location (i.e. when working out of the source/build tree). \n",
    "\n",
    "A simple setup script for Unix systems is provided in\n",
    "\n",
    "    <SOURCE>/maptk/python/setup_maptk_python.sh\n",
    "    \n",
    "A Windows equivalent batch script will be provided in the future."
   ]
  },
  {
   "cell_type": "markdown",
   "metadata": {
    "slideshow": {
     "slide_type": "slide"
    }
   },
   "source": [
    "### Unit Tests\n",
    "Tests for the python interface are available in \n",
    "\n",
    "    <SOURCE>/maptk/python/maptk/tests\n",
    "and require the `nose` python package. To run:\n",
    "\n",
    "    $ nosetests ./maptk/python/maptk/tests"
   ]
  },
  {
   "cell_type": "markdown",
   "metadata": {
    "slideshow": {
     "slide_type": "slide"
    }
   },
   "source": [
    "## Using the MAP-Tk Python Interface\n",
    "The MAP-Tk Python interface is very similar to the C++ interface, with a slight difference in how algorithms are treated. All together, the MAP-Tk Python module primarily consists of a collection of data structures and a collection of algorithms types."
   ]
  },
  {
   "cell_type": "markdown",
   "metadata": {
    "slideshow": {
     "slide_type": "subslide"
    }
   },
   "source": [
    "###Importing MAP-Tk\n",
    "Once the environment is setup MAP-Tk is imported under the name `maptk`"
   ]
  },
  {
   "cell_type": "code",
   "execution_count": null,
   "metadata": {
    "collapsed": false,
    "slideshow": {
     "slide_type": "-"
    }
   },
   "outputs": [],
   "source": [
    "# Importing MAP-Tk Python module\n",
    "import maptk\n",
    "print maptk"
   ]
  },
  {
   "cell_type": "markdown",
   "metadata": {
    "slideshow": {
     "slide_type": "slide"
    }
   },
   "source": [
    "### Data structures\n",
    "The data structures provided in the Python interface are intended to provide the same functions as their C++ counter parts but maintain pythonic design and interaction. Most data structures are importable, for convenience, in the root maptk module."
   ]
  },
  {
   "cell_type": "markdown",
   "metadata": {
    "slideshow": {
     "slide_type": "notes"
    }
   },
   "source": [
    "**NOTE:** Currently, the only data structure that is 100% implemented (compared to the source data structure) is the config_block structue (the MaptkConfigBlock class in Python). Other data structures in the Python interface are only partially implemented in support of the currently implemented algorithms."
   ]
  },
  {
   "cell_type": "markdown",
   "metadata": {
    "slideshow": {
     "slide_type": "subslide"
    }
   },
   "source": [
    "Currently implemented data structures (in whole or part):\n",
    "* algorithm_plugin_manager\n",
    "* camera\n",
    "* camera_map\n",
    "* config_block (complete interface)\n",
    "* image\n",
    "* image_container\n",
    "* track\n",
    "* track_set"
   ]
  },
  {
   "cell_type": "markdown",
   "metadata": {
    "slideshow": {
     "slide_type": "subslide"
    }
   },
   "source": [
    "#### Example: Using the ConfigBlock"
   ]
  },
  {
   "cell_type": "code",
   "execution_count": null,
   "metadata": {
    "collapsed": false,
    "slideshow": {
     "slide_type": "-"
    }
   },
   "outputs": [],
   "source": [
    "# The config block structure\n",
    "from maptk import ConfigBlock\n",
    "\n",
    "# Creating an empyty config block:\n",
    "cb = ConfigBlock(\"SomeNameNotRequired\") \n",
    "print \"empty ConfigBlock keys\",  cb.available_keys()  # an empty list\n",
    "\n",
    "cb.set_value('foobar', 'true')\n",
    "print \"updated ConfigBlock keys\", cb.available_keys()     # Now has one element, 'foobar'\n",
    "print \"value of 'foobar':\", cb.get_value('foobar')  # Get string value\n",
    "# This happens to be a valid boolean string, so we can get it as a boolean value, too\n",
    "if cb.get_value_bool('foobar'):\n",
    "    print \"foobar is on\"\n",
    "else:\n",
    "    print \"foobar is off\""
   ]
  },
  {
   "cell_type": "markdown",
   "metadata": {
    "slideshow": {
     "slide_type": "slide"
    }
   },
   "source": [
    "### Error Handling\n",
    "The C interface implements an error handle structure, that many functions take in and set, in case an exception is thrown in the C++ code. When an exception is detected, a non-zero error code is set. The Python interface uses these handles to propagate any errors that occur in the C/C++ code (aside from unavoidable things like segfaults) as raised exceptions in Python.\n",
    "\n",
    "While there is a catch-all return code and Python exception class for generic errors, specific Python exception classes may be associated to specific return codes on a per-function basis for more fine-grained exception handling."
   ]
  },
  {
   "cell_type": "markdown",
   "metadata": {
    "slideshow": {
     "slide_type": "subslide"
    }
   },
   "source": [
    "####Example: C++ exceptions translated to Python\n",
    "Config blocks may be read from file. If constructed from a file that doesn't exist, the C++ interface would throw an exception. This is also the case in the Python interface due to automatic error propagation, which happens to be a specific exception class due to the Python implementation knowing that the C interface will return different error codes for specific errors."
   ]
  },
  {
   "cell_type": "code",
   "execution_count": null,
   "metadata": {
    "collapsed": false,
    "slideshow": {
     "slide_type": "-"
    }
   },
   "outputs": [],
   "source": [
    "from maptk import ConfigBlock\n",
    "from maptk.exceptions.config_block_io import MaptkConfigBlockIoFileNotFoundException\n",
    "try:\n",
    "    cb = ConfigBlock.from_file(\"/This/is/probably/not/a/file/on/your/disk.conf\")\n",
    "except MaptkConfigBlockIoFileNotFoundException as err:\n",
    "    print \"Exception caught:\", err"
   ]
  },
  {
   "cell_type": "markdown",
   "metadata": {
    "slideshow": {
     "slide_type": "subslide"
    }
   },
   "source": [
    "Other functions may only throw the generic base MAPTK Python exception due to a currently lack of implementation on the Python side, or the C interface does not yet return fine-grained error codes."
   ]
  },
  {
   "cell_type": "code",
   "execution_count": null,
   "metadata": {
    "collapsed": false,
    "slideshow": {
     "slide_type": "-"
    }
   },
   "outputs": [],
   "source": [
    "from maptk import TrackSet\n",
    "from maptk.exceptions.base import MaptkBaseException\n",
    "# An empty track set\n",
    "ts = TrackSet()\n",
    "try:\n",
    "    ts.write_tracks_file(\"not_enough_tracks.txt\")\n",
    "except MaptkBaseException as err:\n",
    "    print \"Exception caught:\", err"
   ]
  },
  {
   "cell_type": "markdown",
   "metadata": {
    "slideshow": {
     "slide_type": "slide"
    }
   },
   "source": [
    "### Plugin Management\n",
    "Just as in C++, we need to load the dynamic plugins before we can instantiate abstract algorithms with concrete instances.\n",
    "\n",
    "In Python this is done via the MaptkAlgorithmPluginManager class. This class is never instantiated and is only interactable via class methods."
   ]
  },
  {
   "cell_type": "code",
   "execution_count": null,
   "metadata": {
    "collapsed": false,
    "slideshow": {
     "slide_type": "subslide"
    }
   },
   "outputs": [],
   "source": [
    "from maptk import AlgorithmPluginManager\n",
    "\n",
    "# Nothing registered initially:\n",
    "print \"Initially registered modlues:\", AlgorithmPluginManager.registered_module_names()\n",
    "\n",
    "# Register a specific module:\n",
    "AlgorithmPluginManager.register_plugins(\"maptk_core\")\n",
    "print \"Single module registration:\", AlgorithmPluginManager.registered_module_names()\n",
    "\n",
    "# Register all available modules (recommended):\n",
    "AlgorithmPluginManager.register_plugins()\n",
    "print \"All available modules:\", AlgorithmPluginManager.registered_module_names()"
   ]
  },
  {
   "cell_type": "markdown",
   "metadata": {
    "slideshow": {
     "slide_type": "notes"
    }
   },
   "source": [
    "**NOTE:** It is possible to compile the MAPTK system statically, but the C interface libraray dynamically. In this case, dynamic plugins are not supported. It is still required to call `MaptkAlgorithmPluginManager.register_plugins` to register available algorithm implementations, however the system will only register those implementations that have been baked into the libraries at compile time. Be aware that in this case no modules will be reported as registered via the `\n",
    "MaptkAlgorithmPluginManager.registered_module_names()` method even when algorithm implementations are actually registered."
   ]
  },
  {
   "cell_type": "markdown",
   "metadata": {
    "slideshow": {
     "slide_type": "slide"
    }
   },
   "source": [
    "### Algorithms\n",
    "In the C++ interface, abstract algorithms are defined, but need to be instantiated with concrete derived algorithms provided by the plugins. Static member functions on abstract base class for each algorithm can list the loaded algorithm implementations by name and create an instance of any implementaiton by string name.\n",
    "\n",
    "In the Python interface, each algorithm class represents one of the C++ defined algorithm types. They act like a shared pointer would in the C++ interface."
   ]
  },
  {
   "cell_type": "markdown",
   "metadata": {
    "slideshow": {
     "slide_type": "slide"
    }
   },
   "source": [
    "#### Undefined Algorithm Instances\n",
    "All algorithm instances must be named (a configuration requirement) and can be initially created with an undefined implementation type, or with a specific implementation.\n",
    "\n",
    "When undefined, a call to the `impl_name()` instance method returns None, and calls to implementation methods raise an exception stating that we cannot operate on a null pointer."
   ]
  },
  {
   "cell_type": "code",
   "execution_count": null,
   "metadata": {
    "collapsed": false,
    "slideshow": {
     "slide_type": "subslide"
    }
   },
   "outputs": [],
   "source": [
    "from maptk.algo import ImageIo\n",
    "from maptk.exceptions.base import MaptkBaseException\n",
    "iio = ImageIo('algo_name')\n",
    "print \"iio implementation name:\", iio.impl_name()\n",
    "try:\n",
    "    iio.load('foo.jpg')\n",
    "except MaptkBaseException as err:\n",
    "    print err\n",
    "    "
   ]
  },
  {
   "cell_type": "markdown",
   "metadata": {
    "slideshow": {
     "slide_type": "slide"
    }
   },
   "source": [
    "#### Instantiating Algorithm Implementations\n",
    "When using algorithm instances interactively, available implementations can be viewed via the `registered_names()` class method."
   ]
  },
  {
   "cell_type": "code",
   "execution_count": null,
   "metadata": {
    "collapsed": false,
    "slideshow": {
     "slide_type": "-"
    }
   },
   "outputs": [],
   "source": [
    "ImageIo.registered_names()"
   ]
  },
  {
   "cell_type": "markdown",
   "metadata": {
    "slideshow": {
     "slide_type": "subslide"
    }
   },
   "source": [
    "If a specific implementation is known, it may be initialized via the `\n",
    "create(...)` class method, or by MaptkConfigBlock configuration."
   ]
  },
  {
   "cell_type": "code",
   "execution_count": null,
   "metadata": {
    "collapsed": false,
    "slideshow": {
     "slide_type": "-"
    }
   },
   "outputs": [],
   "source": [
    "# Directly creating a new algorithm via implementation name\n",
    "iio_ocv = ImageIo.create(\"iio_ocv\", \"ocv\")\n",
    "print \"Created Implementation type:\", iio_ocv.impl_name()"
   ]
  },
  {
   "cell_type": "markdown",
   "metadata": {
    "slideshow": {
     "slide_type": "slide"
    }
   },
   "source": [
    "#### Configuring an Algorithm via ConfigBlock"
   ]
  },
  {
   "cell_type": "code",
   "execution_count": null,
   "metadata": {
    "collapsed": false,
    "slideshow": {
     "slide_type": "-"
    }
   },
   "outputs": [],
   "source": [
    "iio = ImageIo('iio') # and unconfigured image_io algorithm\n",
    "cb = iio.get_config() # get the configuration\n",
    "# iio.impl_name() == None\n",
    "print cb.as_string()  # To see the current configuration"
   ]
  },
  {
   "cell_type": "code",
   "execution_count": null,
   "metadata": {
    "collapsed": false,
    "slideshow": {
     "slide_type": "-"
    }
   },
   "outputs": [],
   "source": [
    "cb.set_value('iio:type', 'ocv')\n",
    "iio.set_config(cb)\n",
    "print \"Using Image IO implementation:\", iio.impl_name()\n",
    "print iio.get_config().as_string()"
   ]
  },
  {
   "cell_type": "markdown",
   "metadata": {
    "slideshow": {
     "slide_type": "slide"
    }
   },
   "source": [
    "#### A More Interesting Configuration Example"
   ]
  },
  {
   "cell_type": "code",
   "execution_count": null,
   "metadata": {
    "collapsed": false
   },
   "outputs": [],
   "source": [
    "from maptk.algo import TrackFeatures\n",
    "tracker = TrackFeatures.create(\"tracker\", \"core\")\n",
    "print tracker.get_config().as_string()"
   ]
  },
  {
   "cell_type": "code",
   "execution_count": null,
   "metadata": {
    "collapsed": false,
    "slideshow": {
     "slide_type": "subslide"
    }
   },
   "outputs": [],
   "source": [
    "cb = tracker.get_config()\n",
    "cb.set_value(\"tracker:core:descriptor_extractor:type\", \"ocv\")\n",
    "tracker.set_config(cb)\n",
    "print tracker.get_config().as_string()"
   ]
  },
  {
   "cell_type": "code",
   "execution_count": null,
   "metadata": {
    "collapsed": false,
    "slideshow": {
     "slide_type": "subslide"
    }
   },
   "outputs": [],
   "source": [
    "cb = tracker.get_config()\n",
    "surf_cb = cb.subblock_view(\"tracker:core:descriptor_extractor:ocv:extractor:Feature2D.SURF\")\n",
    "print surf_cb.as_string()\n",
    "print \"----------------\"\n",
    "surf_cb.set_value(\"upright\", True)\n",
    "surf_cb.set_value(\"hessianThreshold\", 750)\n",
    "tracker.set_config(cb)\n",
    "print tracker.get_config().as_string()"
   ]
  },
  {
   "cell_type": "markdown",
   "metadata": {
    "slideshow": {
     "slide_type": "slide"
    }
   },
   "source": [
    "## Future Work\n",
    "Going forward, the following should be achieved:\n",
    "* Finish interfacing remaining MAP-Tk data structures and structure APIs\n",
    "* Allow further access to underlying data, including using Numpy to represent data arrays and matricies.\n",
    "* Allow algorithm implementations in Python that are then generally usable within the MAP-Tk system via a Python algorithm plugin."
   ]
  }
 ],
 "metadata": {
  "celltoolbar": "Slideshow",
  "kernelspec": {
   "display_name": "Python 2",
   "language": "python",
   "name": "python2"
  },
  "language_info": {
   "codemirror_mode": {
    "name": "ipython",
    "version": 2
   },
   "file_extension": ".py",
   "mimetype": "text/x-python",
   "name": "python",
   "nbconvert_exporter": "python",
   "pygments_lexer": "ipython2",
   "version": "2.7.9"
  }
 },
 "nbformat": 4,
 "nbformat_minor": 0
}
